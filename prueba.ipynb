{
 "cells": [
  {
   "cell_type": "code",
   "execution_count": 1,
   "metadata": {},
   "outputs": [],
   "source": [
    "import numpy as np"
   ]
  },
  {
   "cell_type": "code",
   "execution_count": 3,
   "metadata": {},
   "outputs": [
    {
     "name": "stdout",
     "output_type": "stream",
     "text": [
      "[[False False  True]\n",
      " [False  True  True]\n",
      " [ True False False]]\n"
     ]
    }
   ],
   "source": [
    "import numpy as np\n",
    "mask = np.array([[False, False, True], [False, True, True], [True, False, False]])\n",
    "print(mask)"
   ]
  },
  {
   "cell_type": "code",
   "execution_count": 32,
   "metadata": {},
   "outputs": [
    {
     "data": {
      "text/plain": [
       "int"
      ]
     },
     "execution_count": 32,
     "metadata": {},
     "output_type": "execute_result"
    }
   ],
   "source": [
    "import numpy as np\n",
    "\n",
    "mask = np.array([[False, False, True], \n",
    "                 [False, True, True], \n",
    "                 [True, False, False]])\n",
    "\n",
    "# Obtiene las posiciones x e y de los valores True\n",
    "x, y = np.where(mask)\n",
    "\n",
    "coordinate_list = np.array([list([x, y]) for x, y in zip(x, y)]).tolist()\n",
    "type(coordinate_list[0][0])"
   ]
  },
  {
   "cell_type": "code",
   "execution_count": 2,
   "metadata": {},
   "outputs": [],
   "source": [
    "import os\n",
    "\n",
    "# Directorio que contiene los archivos .txt\n",
    "directorio = 'data/val/labels/'\n",
    "\n",
    "for archivo in os.listdir(directorio):\n",
    "    if archivo.endswith('.txt') and (archivo.startswith('cat_') or archivo.startswith('dog_')):\n",
    "        ruta_archivo = os.path.join(directorio, archivo)\n",
    "        with open(ruta_archivo, 'r+') as f:\n",
    "            lineas = f.readlines()\n",
    "            primera_linea = lineas[0].strip()\n",
    "            if archivo.startswith('cat_'):\n",
    "                nueva_primera_linea = '0' + primera_linea[1:]\n",
    "            else:\n",
    "                nueva_primera_linea = '1' + primera_linea[1:]\n",
    "            f.seek(0)\n",
    "            f.write(nueva_primera_linea + '\\n')\n",
    "            for linea in lineas[1:]:\n",
    "                f.write(linea)\n",
    "            f.truncate()\n"
   ]
  },
  {
   "cell_type": "code",
   "execution_count": null,
   "metadata": {},
   "outputs": [],
   "source": []
  }
 ],
 "metadata": {
  "kernelspec": {
   "display_name": "Python 3",
   "language": "python",
   "name": "python3"
  },
  "language_info": {
   "codemirror_mode": {
    "name": "ipython",
    "version": 3
   },
   "file_extension": ".py",
   "mimetype": "text/x-python",
   "name": "python",
   "nbconvert_exporter": "python",
   "pygments_lexer": "ipython3",
   "version": "3.8.10"
  },
  "orig_nbformat": 4
 },
 "nbformat": 4,
 "nbformat_minor": 2
}
