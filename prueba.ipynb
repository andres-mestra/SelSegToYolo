{
 "cells": [
  {
   "cell_type": "code",
   "execution_count": 1,
   "metadata": {},
   "outputs": [],
   "source": [
    "import numpy as np"
   ]
  },
  {
   "cell_type": "code",
   "execution_count": 3,
   "metadata": {},
   "outputs": [
    {
     "name": "stdout",
     "output_type": "stream",
     "text": [
      "[[False False  True]\n",
      " [False  True  True]\n",
      " [ True False False]]\n"
     ]
    }
   ],
   "source": [
    "import numpy as np\n",
    "mask = np.array([[False, False, True], [False, True, True], [True, False, False]])\n",
    "print(mask)"
   ]
  },
  {
   "cell_type": "code",
   "execution_count": 32,
   "metadata": {},
   "outputs": [
    {
     "data": {
      "text/plain": [
       "int"
      ]
     },
     "execution_count": 32,
     "metadata": {},
     "output_type": "execute_result"
    }
   ],
   "source": [
    "import numpy as np\n",
    "\n",
    "mask = np.array([[False, False, True], \n",
    "                 [False, True, True], \n",
    "                 [True, False, False]])\n",
    "\n",
    "# Obtiene las posiciones x e y de los valores True\n",
    "x, y = np.where(mask)\n",
    "\n",
    "coordinate_list = np.array([list([x, y]) for x, y in zip(x, y)]).tolist()\n",
    "type(coordinate_list[0][0])"
   ]
  },
  {
   "cell_type": "code",
   "execution_count": 2,
   "metadata": {},
   "outputs": [],
   "source": [
    "import os\n",
    "\n",
    "# Directorio que contiene los archivos .txt\n",
    "directorio = 'data/val/labels/'\n",
    "\n",
    "for archivo in os.listdir(directorio):\n",
    "    if archivo.endswith('.txt') and (archivo.startswith('cat_') or archivo.startswith('dog_')):\n",
    "        ruta_archivo = os.path.join(directorio, archivo)\n",
    "        with open(ruta_archivo, 'r+') as f:\n",
    "            lineas = f.readlines()\n",
    "            primera_linea = lineas[0].strip()\n",
    "            if archivo.startswith('cat_'):\n",
    "                nueva_primera_linea = '0' + primera_linea[1:]\n",
    "            else:\n",
    "                nueva_primera_linea = '1' + primera_linea[1:]\n",
    "            f.seek(0)\n",
    "            f.write(nueva_primera_linea + '\\n')\n",
    "            for linea in lineas[1:]:\n",
    "                f.write(linea)\n",
    "            f.truncate()\n"
   ]
  },
  {
   "cell_type": "code",
   "execution_count": 1,
   "metadata": {},
   "outputs": [],
   "source": [
    "from get_images import get_images_paths\n",
    "\n",
    "muestra_dir = 'testeo'\n",
    "category_dir_name= 'cat' #Carpeta de las imagenes de la categoria\n",
    "category_dir = muestra_dir + '/' + category_dir_name + '/'\n",
    "category_name = 'cat' #Categoria solo cambiar nombre\n",
    "images = get_images_paths(category_dir)"
   ]
  },
  {
   "cell_type": "code",
   "execution_count": 17,
   "metadata": {},
   "outputs": [
    {
     "data": {
      "text/plain": [
       "['cat_4482.jpg',\n",
       " 'cat_4587.jpg',\n",
       " 'cat_4719.jpg',\n",
       " 'cat_4769.jpg',\n",
       " 'cat_4789.jpg',\n",
       " 'cat_4821.jpg',\n",
       " 'cat_4933.jpg',\n",
       " 'cat_5098.jpg',\n",
       " 'cat_5420.jpg',\n",
       " 'cat_5531.jpg',\n",
       " 'cat_5588.jpg',\n",
       " 'cat_5738.jpg',\n",
       " 'cat_5833.jpg',\n",
       " 'cat_5873.jpg',\n",
       " 'cat_6092.jpg',\n",
       " 'cat_6281.jpg',\n",
       " 'cat_6642.jpg',\n",
       " 'cat_6646.jpg',\n",
       " 'cat_6844.jpg',\n",
       " 'cat_7079.jpg',\n",
       " 'cat_7094.jpg',\n",
       " 'cat_7111.jpg',\n",
       " 'cat_7163.jpg',\n",
       " 'cat_7194.jpg',\n",
       " 'cat_7283.jpg',\n",
       " 'cat_7343.jpg',\n",
       " 'cat_7384.jpg',\n",
       " 'cat_7393.jpg',\n",
       " 'cat_7417.jpg',\n",
       " 'cat_7432.jpg',\n",
       " 'cat_7433.jpg',\n",
       " 'cat_7466.jpg',\n",
       " 'cat_7521.jpg',\n",
       " 'cat_7535.jpg',\n",
       " 'cat_7539.jpg',\n",
       " 'cat_7599.jpg',\n",
       " 'cat_7607.jpg',\n",
       " 'cat_7610.jpg',\n",
       " 'cat_7614.jpg',\n",
       " 'cat_7646.jpg',\n",
       " 'cat_7658.jpg',\n",
       " 'cat_7709.jpg',\n",
       " 'cat_7714.jpg',\n",
       " 'cat_7719.jpg',\n",
       " 'cat_7737.jpg',\n",
       " 'cat_7738.jpg',\n",
       " 'cat_7753.jpg',\n",
       " 'cat_7771.jpg',\n",
       " 'cat_7773.jpg',\n",
       " 'cat_7775.jpg',\n",
       " 'cat_7779.jpg',\n",
       " 'cat_7803.jpg',\n",
       " 'cat_7837.jpg',\n",
       " 'cat_7853.jpg',\n",
       " 'cat_7902.jpg',\n",
       " 'cat_7924.jpg',\n",
       " 'cat_7937.jpg',\n",
       " 'cat_7949.jpg',\n",
       " 'cat_7968.jpg',\n",
       " 'cat_7987.jpg',\n",
       " 'cat_8032.jpg',\n",
       " 'cat_8086.jpg',\n",
       " 'cat_8096.jpg',\n",
       " 'cat_8104.jpg',\n",
       " 'cat_8127.jpg',\n",
       " 'cat_8242.jpg',\n",
       " 'cat_8253.jpg',\n",
       " 'cat_8260.jpg',\n",
       " 'cat_8262.jpg',\n",
       " 'cat_8264.jpg',\n",
       " 'cat_8329.jpg',\n",
       " 'cat_8381.jpg',\n",
       " 'cat_8396.jpg',\n",
       " 'cat_8410.jpg',\n",
       " 'cat_8425.jpg',\n",
       " 'cat_8521.jpg',\n",
       " 'cat_8527.jpg',\n",
       " 'cat_8530.jpg',\n",
       " 'cat_8550.jpg',\n",
       " 'cat_8599.jpg',\n",
       " 'cat_8611.jpg',\n",
       " 'cat_8619.jpg',\n",
       " 'cat_8662.jpg',\n",
       " 'cat_8721.jpg',\n",
       " 'cat_8756.jpg',\n",
       " 'cat_8821.jpg',\n",
       " 'cat_8861.jpg',\n",
       " 'cat_8918.jpg',\n",
       " 'cat_8930.jpg',\n",
       " 'cat_8933.jpg',\n",
       " 'cat_8974.jpg',\n",
       " 'cat_9089.jpg',\n",
       " 'cat_9110.jpg',\n",
       " 'cat_9131.jpg',\n",
       " 'cat_9163.jpg',\n",
       " 'cat_9175.jpg',\n",
       " 'cat_9280.jpg',\n",
       " 'cat_9294.jpg',\n",
       " 'cat_9309.jpg',\n",
       " 'cat_9322.jpg',\n",
       " 'cat_9326.jpg',\n",
       " 'cat_9332.jpg',\n",
       " 'cat_9340.jpg',\n",
       " 'cat_9399.jpg',\n",
       " 'cat_9436.jpg']"
      ]
     },
     "execution_count": 17,
     "metadata": {},
     "output_type": "execute_result"
    }
   ],
   "source": [
    "for image_path in images:\n",
    "    file_name, extension = image_path.split('.')\n",
    "    if extension != 'jpg':\n",
    "        continue \n",
    "    if file_name + '.json' not in images:\n",
    "        continue"
   ]
  },
  {
   "cell_type": "code",
   "execution_count": null,
   "metadata": {},
   "outputs": [],
   "source": [
    "#a partir d elos numeros de las imagenes genera el archivo de la imagen\n",
    "number = [26941,21000,15590,24545,22551,23527,24319,18165,17104,14941]\n",
    "images = []\n",
    "for i in number:\n",
    "  images.append(f'fish_{i}.jpg')"
   ]
  },
  {
   "cell_type": "code",
   "execution_count": null,
   "metadata": {},
   "outputs": [],
   "source": [
    "#Eliminar archivos jsons que hay que repetir\n",
    "import os\n",
    "def eliminar_archivos(lista_archivos):\n",
    "    for archivo in lista_archivos:\n",
    "        os.remove(archivo)\n",
    "        print(f\"Archivo {archivo} eliminado con éxito.\")\n",
    "\n",
    "\n",
    "muestra_dir = 'testeo'\n",
    "category_dir_name= 'birds' #Carpeta de las imagenes de la categoria\n",
    "category_dir = muestra_dir + '/' + category_dir_name + '/'\n",
    "category_name = 'birds' #Categoria solo cambiar nombre\n",
    "\n",
    "#Lista de numeros de imagenes de la categoria\n",
    "number = number = [729,1152]\n",
    "jsons_dir = []\n",
    "for i in number:\n",
    "  jsons_dir.append(f'{category_dir}{category_name}_{i}.json')\n",
    "print(jsons_dir)\n",
    "eliminar_archivos(jsons_dir)"
   ]
  }
 ],
 "metadata": {
  "kernelspec": {
   "display_name": "Python 3",
   "language": "python",
   "name": "python3"
  },
  "language_info": {
   "codemirror_mode": {
    "name": "ipython",
    "version": 3
   },
   "file_extension": ".py",
   "mimetype": "text/x-python",
   "name": "python",
   "nbconvert_exporter": "python",
   "pygments_lexer": "ipython3",
   "version": "3.11.2"
  },
  "orig_nbformat": 4
 },
 "nbformat": 4,
 "nbformat_minor": 2
}
