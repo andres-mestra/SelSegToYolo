{
  "nbformat": 4,
  "nbformat_minor": 0,
  "metadata": {
    "colab": {
      "provenance": []
    },
    "kernelspec": {
      "name": "python3",
      "display_name": "Python 3"
    },
    "language_info": {
      "name": "python"
    }
  },
  "cells": [
    {
      "cell_type": "code",
      "execution_count": 2,
      "metadata": {
        "id": "C9xx8_AnTZgo"
      },
      "outputs": [],
      "source": [
        "import pandas as pd\n",
        "import os, shutil\n",
        "\n",
        "from random import sample, seed"
      ]
    },
    {
      "cell_type": "markdown",
      "source": [
        "Código para eliminar archivos que ya fueron usados en el train y el val del modelo"
      ],
      "metadata": {
        "id": "_n0pTcLkWw3g"
      }
    },
    {
      "cell_type": "code",
      "source": [
        "# Carpetas que se utilizarán\n",
        "carpeta_train = '/content/drive/MyDrive/dataset_muestra/dataset_v2/images/train'\n",
        "carpeta_val = '/content/drive/MyDrive/dataset_muestra/dataset_v2/images/val'\n",
        "carpeta_principal = '/content/drive/MyDrive/DATASET_02_SEPT/DATASET'\n",
        "\n",
        "# Listado de imágenes ya utilizadas\n",
        "imagenes_utilizadas_train = [archivo.split('.')[0] for archivo in os.listdir(carpeta_train)]\n",
        "imagenes_utilizadas_val = [archivo.split('.')[0] for archivo in os.listdir(carpeta_val)]\n",
        "imagenes_utilizadas = imagenes_utilizadas_train + imagenes_utilizadas_val\n",
        "\n",
        "# Recorriendo todas las carpetas y archivos y obteniendo sus direcciones\n",
        "imagenes_eliminar = []\n",
        "for subdir, _, archivos in os.walk(carpeta_principal):\n",
        "    for archivo in archivos:\n",
        "        ruta_completa = os.path.join(subdir, archivo)\n",
        "        nombre_unico_archivo = ruta_completa.split('/')[-1].split('.')[0]\n",
        "        if nombre_unico_archivo in imagenes_utilizadas:\n",
        "            imagenes_eliminar.append(ruta_completa)\n",
        "len(imagenes_eliminar)\n",
        "\n",
        "# Eliminando las imágenes\n",
        "for file in imagenes_eliminar:\n",
        "    os.remove(file)"
      ],
      "metadata": {
        "colab": {
          "base_uri": "https://localhost:8080/"
        },
        "id": "cXTI9cXBlKzy",
        "outputId": "b19d0aa8-e892-4238-834e-d608628d177f"
      },
      "execution_count": 18,
      "outputs": [
        {
          "output_type": "execute_result",
          "data": {
            "text/plain": [
              "0"
            ]
          },
          "metadata": {},
          "execution_count": 18
        }
      ]
    },
    {
      "cell_type": "markdown",
      "source": [
        "Código para ver cuántos archivos hay en la carpeta del dataset"
      ],
      "metadata": {
        "id": "BOX67hjzXN0f"
      }
    },
    {
      "cell_type": "code",
      "source": [
        "carpeta_principal = '/content/drive/MyDrive/DATASET_02_SEPT/DATASET'\n",
        "archivos_names = []\n",
        "for subdir, _, archivos in os.walk(carpeta_principal):\n",
        "    for archivo in archivos:\n",
        "        archivos_names.append(archivo)\n",
        "\n",
        "len(archivos_names)"
      ],
      "metadata": {
        "id": "XjGz1UUsoY_y",
        "colab": {
          "base_uri": "https://localhost:8080/"
        },
        "outputId": "a8f5762b-53b7-4b6c-ba37-7e622fe718ee"
      },
      "execution_count": 20,
      "outputs": [
        {
          "output_type": "execute_result",
          "data": {
            "text/plain": [
              "31948"
            ]
          },
          "metadata": {},
          "execution_count": 20
        }
      ]
    },
    {
      "cell_type": "markdown",
      "source": [
        "Código para hacer train_test_split de las imágenes, en este caso 20% de cada carpeta irá a test."
      ],
      "metadata": {
        "id": "vJun0nSLW_hO"
      }
    },
    {
      "cell_type": "code",
      "source": [
        "carpeta_principal = '/content/drive/MyDrive/DATASET_02_SEPT/DATASET'\n",
        "\n",
        "# Recorriendo todas las carpetas y archivos\n",
        "dict_imagenes = {}\n",
        "for subdir, _, archivos in os.walk(carpeta_principal):\n",
        "    for archivo in archivos:\n",
        "        ruta_completa = os.path.join(subdir, archivo)\n",
        "        if subdir in dict_imagenes:\n",
        "            dict_imagenes[subdir].append(ruta_completa)\n",
        "        else:\n",
        "            dict_imagenes[subdir] = [ruta_completa]\n",
        "\n",
        "porcentaje = 20\n",
        "\n",
        "# Crear un nuevo diccionario para los elementos seleccionados\n",
        "datos_seleccionados = {}\n",
        "\n",
        "for clave, valores in dict_imagenes.items():\n",
        "    # Calcular la cantidad de elementos a seleccionar (el 10% del total)\n",
        "    num_elementos_a_seleccionar = int(len(valores) * (porcentaje / 100))\n",
        "\n",
        "    # Seleccionar elementos al azar\n",
        "    elementos_seleccionados = sample(valores, num_elementos_a_seleccionar)\n",
        "\n",
        "    # Almacenar los elementos seleccionados en el nuevo diccionario\n",
        "    datos_seleccionados[clave] = elementos_seleccionados\n",
        "\n",
        "for carpeta, lista_archivos in datos_seleccionados.items():\n",
        "    destino_carpeta = os.path.join(carpeta_principal, carpeta.split('/')[-1] + '_test')\n",
        "\n",
        "    # Verifica si la carpeta de destino existe o créala si no existe\n",
        "    if not os.path.exists(destino_carpeta):\n",
        "        os.makedirs(destino_carpeta)\n",
        "\n",
        "    for archivo in lista_archivos:\n",
        "        # Verifica si el archivo existe antes de intentar moverlo\n",
        "        if os.path.exists(archivo):\n",
        "            nuevo_destino = os.path.join(destino_carpeta, os.path.basename(archivo))\n",
        "            shutil.move(archivo, nuevo_destino)\n",
        "\n",
        "    # Renombrando la carpeta con las imágenes de entrenamiento\n",
        "    nombre_actual = carpeta.split('/')[-1]\n",
        "    nuevo_nombre = carpeta.split('/')[-1] + '_train'\n",
        "\n",
        "    # Combinar la ruta actual y el nuevo nombre para obtener la ruta completa del nuevo nombre\n",
        "    ruta_completa_nuevo = os.path.join(carpeta_principal, nuevo_nombre)\n",
        "\n",
        "    # Renombrar la carpeta\n",
        "    os.rename(carpeta, ruta_completa_nuevo)\n",
        "    print(f'La carpeta \"{nombre_actual}\" ha sido renombrada como \"{nuevo_nombre}\"')"
      ],
      "metadata": {
        "id": "JgwnCzuVbVEq",
        "colab": {
          "base_uri": "https://localhost:8080/"
        },
        "outputId": "aa96c743-43ed-4245-ac59-166d0a9be769"
      },
      "execution_count": 19,
      "outputs": [
        {
          "output_type": "stream",
          "name": "stdout",
          "text": [
            "La carpeta \"birds\" ha sido renombrada como \"birds_train\"\n",
            "La carpeta \"wild\" ha sido renombrada como \"wild_train\"\n",
            "La carpeta \"fish\" ha sido renombrada como \"fish_train\"\n",
            "La carpeta \"cat\" ha sido renombrada como \"cat_train\"\n",
            "La carpeta \"dog\" ha sido renombrada como \"dog_train\"\n"
          ]
        }
      ]
    }
  ]
}