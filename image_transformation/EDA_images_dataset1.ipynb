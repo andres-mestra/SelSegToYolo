{
  "cells": [
    {
      "cell_type": "code",
      "execution_count": null,
      "metadata": {
        "colab": {
          "base_uri": "https://localhost:8080/"
        },
        "id": "jOj8DTCZdZ2Q",
        "outputId": "226bd017-5e19-4076-8132-078561a5ee2e"
      },
      "outputs": [
        {
          "name": "stdout",
          "output_type": "stream",
          "text": [
            "Mounted at /content/drive\n"
          ]
        }
      ],
      "source": [
        "from google.colab import drive\n",
        "drive.mount('/content/drive')"
      ]
    },
    {
      "cell_type": "code",
      "execution_count": 1,
      "metadata": {
        "id": "wv72I1efFnis"
      },
      "outputs": [],
      "source": [
        "import numpy as np\n",
        "import pandas as pd\n",
        "import matplotlib.pyplot as plt\n",
        "import seaborn as sns\n",
        "import os, shutil\n",
        "\n",
        "from PIL import Image\n",
        "\n",
        "from random import choice, sample\n",
        "from warnings import filterwarnings\n",
        "filterwarnings(\"ignore\")"
      ]
    },
    {
      "cell_type": "markdown",
      "metadata": {
        "id": "mjM2s3b5FnjN"
      },
      "source": [
        "Código para generar un código único en cada imagen del dataset"
      ]
    },
    {
      "cell_type": "code",
      "execution_count": null,
      "metadata": {
        "id": "yiPigp9dFnjm"
      },
      "outputs": [],
      "source": [
        "carpeta_principal = \"D:/Estiven/Datos/Proyectos/olimpiadas_AI/DATASET\"\n",
        "\n",
        "# Lista de carpetas a recorrer\n",
        "carpetas = os.listdir(carpeta_principal)\n",
        "\n",
        "contador = 0\n",
        "\n",
        "# Recorriendo cada carpeta y cada archivo en ellas\n",
        "for carpeta in carpetas:\n",
        "    ruta_carpeta = os.path.join(carpeta_principal, carpeta)\n",
        "\n",
        "    for filename in os.listdir(ruta_carpeta):\n",
        "\n",
        "        _, file_extension = os.path.splitext(filename) # Obtener la extensión del archivo\n",
        "\n",
        "        nuevo_nombre = f\"{carpeta}_{contador}{file_extension}\"  # Nuevo nombre del archivo\n",
        "        nueva_ruta = os.path.join(ruta_carpeta, nuevo_nombre)\n",
        "\n",
        "        # Renombrando los archivos\n",
        "        os.rename(os.path.join(ruta_carpeta, filename), nueva_ruta)\n",
        "        contador += 1"
      ]
    },
    {
      "cell_type": "markdown",
      "metadata": {
        "id": "9G-L70WuFnj1"
      },
      "source": [
        "Código para crear un dataframe con información de cada imagen del dataset"
      ]
    },
    {
      "cell_type": "code",
      "execution_count": null,
      "metadata": {
        "id": "F94nalDfFnkA"
      },
      "outputs": [],
      "source": [
        "carpeta_principal = \"D:/Estiven/Datos/Proyectos/olimpiadas_AI/DATASET\"\n",
        "\n",
        "# Lista de carpetas a recorrer\n",
        "carpetas = os.listdir(carpeta_principal)\n",
        "\n",
        "# Listas donde se contendrán los datos\n",
        "dimensiones = []\n",
        "extensiones = []\n",
        "categoria = []\n",
        "nombre_archivo = []\n",
        "\n",
        "# Recorriendo cada archivo de las carpetas\n",
        "for carpeta in carpetas:\n",
        "    carpeta_path = os.path.join(carpeta_principal, carpeta)\n",
        "\n",
        "    for archivo in os.listdir(carpeta_path):\n",
        "        archivo_path = os.path.join(carpeta_path, archivo)\n",
        "\n",
        "        # Abriendo cada imagen y sacando su información\n",
        "        with Image.open(archivo_path) as imagen:\n",
        "            imagen_size = imagen.size\n",
        "            extension = imagen.format\n",
        "\n",
        "        # Guardando los datos en listas\n",
        "        dimensiones.append(imagen_size)\n",
        "        extensiones.append(extension)\n",
        "        categoria.append(carpeta)\n",
        "        nombre_archivo.append(archivo)"
      ]
    },
    {
      "cell_type": "markdown",
      "metadata": {
        "id": "b0fVIBZKFnkK"
      },
      "source": [
        "Código para cambiar la extensión de las imágenes .png a .jpg"
      ]
    },
    {
      "cell_type": "code",
      "execution_count": null,
      "metadata": {
        "id": "Y4EBGq43FnkQ"
      },
      "outputs": [],
      "source": [
        "carpeta_principal = 'D:/Estiven/Datos/Proyectos/olimpiadas_AI/DATASET'\n",
        "\n",
        "# Recorriendo todas las carpetas y archivos\n",
        "for subdir, _, archivos in os.walk(carpeta_principal):\n",
        "    for archivo in archivos:\n",
        "        # Comprobando si el archivo es una imagen PNG\n",
        "        if archivo.lower().endswith('.png'):\n",
        "            ruta_completa = os.path.join(subdir, archivo)\n",
        "            imagen_png = Image.open(ruta_completa)\n",
        "\n",
        "            # Crea la ruta de archivo para la nueva imagen JPG\n",
        "            nueva_ruta = os.path.splitext(ruta_completa)[0] + '.jpg'\n",
        "\n",
        "            # Convirtiendo la imagen como JPG\n",
        "            imagen_png.convert('RGB').save(nueva_ruta, 'JPEG')\n",
        "\n",
        "            # Eliminar la imagen PNG original\n",
        "            os.remove(ruta_completa)"
      ]
    },
    {
      "cell_type": "markdown",
      "metadata": {
        "id": "vOu8kUnNdCfs"
      },
      "source": [
        "Código para sacar una muestra de 10 imágenes de cada categoría"
      ]
    },
    {
      "cell_type": "code",
      "execution_count": null,
      "metadata": {
        "id": "_uba12sydCfz"
      },
      "outputs": [],
      "source": [
        "# Definir las carpetas de origen y destino\n",
        "carpeta_origen = \"D:/Estiven/Datos/Proyectos/olimpiadas_AI/DATASET\"\n",
        "carpeta_destino = \"D:/Estiven/Datos/Proyectos/olimpiadas_AI/muestra\"\n",
        "\n",
        "# Crear la carpeta de destino si no existe\n",
        "if not os.path.exists(carpeta_destino):\n",
        "    os.makedirs(carpeta_destino)\n",
        "\n",
        "# Listar todas las carpetas en la carpeta de origen\n",
        "subcarpetas = [f.path for f in os.scandir(carpeta_origen) if f.is_dir()]\n",
        "\n",
        "# Iterar a través de las subcarpetas y seleccionar 10 archivos de cada una\n",
        "for subcarpeta in subcarpetas:\n",
        "    archivos = [f.path for f in os.scandir(subcarpeta) if f.is_file()]\n",
        "    archivos_seleccionados = sample(archivos, 10)  # Seleccionar 10 archivos al azar\n",
        "\n",
        "    for archivo in archivos_seleccionados:\n",
        "        # Mover el archivo seleccionado a la carpeta de destino\n",
        "        shutil.move(archivo, os.path.join(carpeta_destino, os.path.basename(archivo)))\n",
        "        print(f\"Archivo movido: {archivo} a {os.path.join(carpeta_destino, os.path.basename(archivo))}\")"
      ]
    },
    {
      "cell_type": "markdown",
      "metadata": {
        "id": "GM-f7V0ZFnkS"
      },
      "source": [
        "Creación de dataframe con información relevante del dataset"
      ]
    },
    {
      "cell_type": "code",
      "execution_count": null,
      "metadata": {
        "id": "gQC0YZAHFnkW",
        "outputId": "cc1628dd-ae9f-4b9d-dda3-458669675e55"
      },
      "outputs": [
        {
          "data": {
            "text/html": [
              "<div>\n",
              "<style scoped>\n",
              "    .dataframe tbody tr th:only-of-type {\n",
              "        vertical-align: middle;\n",
              "    }\n",
              "\n",
              "    .dataframe tbody tr th {\n",
              "        vertical-align: top;\n",
              "    }\n",
              "\n",
              "    .dataframe thead th {\n",
              "        text-align: right;\n",
              "    }\n",
              "</style>\n",
              "<table border=\"1\" class=\"dataframe\">\n",
              "  <thead>\n",
              "    <tr style=\"text-align: right;\">\n",
              "      <th></th>\n",
              "      <th>nombre_archivo</th>\n",
              "      <th>dimension</th>\n",
              "      <th>extension</th>\n",
              "      <th>categoria</th>\n",
              "      <th>ancho</th>\n",
              "      <th>alto</th>\n",
              "    </tr>\n",
              "  </thead>\n",
              "  <tbody>\n",
              "    <tr>\n",
              "      <th>0</th>\n",
              "      <td>0.jpg</td>\n",
              "      <td>(500, 304)</td>\n",
              "      <td>JPEG</td>\n",
              "      <td>birds</td>\n",
              "      <td>500</td>\n",
              "      <td>304</td>\n",
              "    </tr>\n",
              "    <tr>\n",
              "      <th>1</th>\n",
              "      <td>1.jpg</td>\n",
              "      <td>(500, 374)</td>\n",
              "      <td>JPEG</td>\n",
              "      <td>birds</td>\n",
              "      <td>500</td>\n",
              "      <td>374</td>\n",
              "    </tr>\n",
              "    <tr>\n",
              "      <th>2</th>\n",
              "      <td>10.jpg</td>\n",
              "      <td>(500, 333)</td>\n",
              "      <td>JPEG</td>\n",
              "      <td>birds</td>\n",
              "      <td>500</td>\n",
              "      <td>333</td>\n",
              "    </tr>\n",
              "    <tr>\n",
              "      <th>3</th>\n",
              "      <td>100.jpg</td>\n",
              "      <td>(500, 333)</td>\n",
              "      <td>JPEG</td>\n",
              "      <td>birds</td>\n",
              "      <td>500</td>\n",
              "      <td>333</td>\n",
              "    </tr>\n",
              "    <tr>\n",
              "      <th>4</th>\n",
              "      <td>1000.jpg</td>\n",
              "      <td>(469, 298)</td>\n",
              "      <td>JPEG</td>\n",
              "      <td>birds</td>\n",
              "      <td>469</td>\n",
              "      <td>298</td>\n",
              "    </tr>\n",
              "    <tr>\n",
              "      <th>...</th>\n",
              "      <td>...</td>\n",
              "      <td>...</td>\n",
              "      <td>...</td>\n",
              "      <td>...</td>\n",
              "      <td>...</td>\n",
              "      <td>...</td>\n",
              "    </tr>\n",
              "    <tr>\n",
              "      <th>33143</th>\n",
              "      <td>pixabay_wild_001249.jpg</td>\n",
              "      <td>(512, 512)</td>\n",
              "      <td>JPEG</td>\n",
              "      <td>wild</td>\n",
              "      <td>512</td>\n",
              "      <td>512</td>\n",
              "    </tr>\n",
              "    <tr>\n",
              "      <th>33144</th>\n",
              "      <td>pixabay_wild_001250.jpg</td>\n",
              "      <td>(512, 512)</td>\n",
              "      <td>JPEG</td>\n",
              "      <td>wild</td>\n",
              "      <td>512</td>\n",
              "      <td>512</td>\n",
              "    </tr>\n",
              "    <tr>\n",
              "      <th>33145</th>\n",
              "      <td>pixabay_wild_001251.jpg</td>\n",
              "      <td>(512, 512)</td>\n",
              "      <td>JPEG</td>\n",
              "      <td>wild</td>\n",
              "      <td>512</td>\n",
              "      <td>512</td>\n",
              "    </tr>\n",
              "    <tr>\n",
              "      <th>33146</th>\n",
              "      <td>pixabay_wild_001252.jpg</td>\n",
              "      <td>(512, 512)</td>\n",
              "      <td>JPEG</td>\n",
              "      <td>wild</td>\n",
              "      <td>512</td>\n",
              "      <td>512</td>\n",
              "    </tr>\n",
              "    <tr>\n",
              "      <th>33147</th>\n",
              "      <td>pixabay_wild_001253.jpg</td>\n",
              "      <td>(512, 512)</td>\n",
              "      <td>JPEG</td>\n",
              "      <td>wild</td>\n",
              "      <td>512</td>\n",
              "      <td>512</td>\n",
              "    </tr>\n",
              "  </tbody>\n",
              "</table>\n",
              "<p>33148 rows × 6 columns</p>\n",
              "</div>"
            ],
            "text/plain": [
              "                nombre_archivo   dimension extension categoria  ancho  alto\n",
              "0                        0.jpg  (500, 304)      JPEG     birds    500   304\n",
              "1                        1.jpg  (500, 374)      JPEG     birds    500   374\n",
              "2                       10.jpg  (500, 333)      JPEG     birds    500   333\n",
              "3                      100.jpg  (500, 333)      JPEG     birds    500   333\n",
              "4                     1000.jpg  (469, 298)      JPEG     birds    469   298\n",
              "...                        ...         ...       ...       ...    ...   ...\n",
              "33143  pixabay_wild_001249.jpg  (512, 512)      JPEG      wild    512   512\n",
              "33144  pixabay_wild_001250.jpg  (512, 512)      JPEG      wild    512   512\n",
              "33145  pixabay_wild_001251.jpg  (512, 512)      JPEG      wild    512   512\n",
              "33146  pixabay_wild_001252.jpg  (512, 512)      JPEG      wild    512   512\n",
              "33147  pixabay_wild_001253.jpg  (512, 512)      JPEG      wild    512   512\n",
              "\n",
              "[33148 rows x 6 columns]"
            ]
          },
          "execution_count": 3,
          "metadata": {},
          "output_type": "execute_result"
        }
      ],
      "source": [
        "# Creación del dataframe con base en las listas anteriores\n",
        "dataset_info = pd.DataFrame(zip(nombre_archivo, dimensiones, extensiones, categoria), columns=['nombre_archivo','dimension', 'extension', 'categoria'])\n",
        "\n",
        "# Descomprimiendo la tupla dada por el método img.size\n",
        "dataset_info[['ancho', 'alto']] = dataset_info['dimension'].apply(lambda x: pd.Series([x[0], x[1]]))\n",
        "\n",
        "# Obteniendo el identificador único de cada imagen\n",
        "# dataset_info['identificador_unico'] = dataset_info['nombre_archivo'].str.extract(r'_(\\d+)\\.').astype('int')\n",
        "# dataset_info = dataset_info.drop(columns='dimension') # Eliminando la columna dimension\n",
        "# dataset_info = dataset_info.sort_values(by='identificador_unico').reset_index(drop=True) # Reordenando el dataframe\n",
        "dataset_info"
      ]
    },
    {
      "cell_type": "code",
      "execution_count": null,
      "metadata": {
        "id": "3Tg71aOrdCe7"
      },
      "outputs": [],
      "source": [
        "dataset_info.to_csv('dataset_info_original.csv')"
      ]
    },
    {
      "cell_type": "markdown",
      "metadata": {
        "id": "mUFIGd7HdnBl"
      },
      "source": [
        "# Análisis a las imágenes originales / transformadas"
      ]
    },
    {
      "cell_type": "code",
      "execution_count": 3,
      "metadata": {
        "id": "UimIpaILG-c5"
      },
      "outputs": [],
      "source": [
        "# Dataset imágenes transformadas\n",
        "dataset_info_trans = pd.read_csv('D:/Estiven/Datos/Proyectos/SelSegToYolo/image_transformation/dataset_info.csv', index_col='Unnamed: 0')\n",
        "\n",
        "# Dataset imágenes originales y\n",
        "dataset_info = pd.read_csv('D:/Estiven/Datos/Proyectos/SelSegToYolo/image_transformation/dataset_info_original.csv', index_col='Unnamed: 0')\n",
        "dataset_info.nombre_archivo = dataset_info.nombre_archivo.apply(lambda x: x.split('.')[0])"
      ]
    },
    {
      "cell_type": "code",
      "execution_count": 4,
      "metadata": {
        "colab": {
          "base_uri": "https://localhost:8080/",
          "height": 161
        },
        "id": "9nGTdDmvIWRc",
        "outputId": "9f7edf94-0307-40ce-d7c1-ef5985802fc8"
      },
      "outputs": [
        {
          "name": "stdout",
          "output_type": "stream",
          "text": [
            "Número de imagenes según sus extensiones\n"
          ]
        },
        {
          "data": {
            "text/html": [
              "<div>\n",
              "<style scoped>\n",
              "    .dataframe tbody tr th:only-of-type {\n",
              "        vertical-align: middle;\n",
              "    }\n",
              "\n",
              "    .dataframe tbody tr th {\n",
              "        vertical-align: top;\n",
              "    }\n",
              "\n",
              "    .dataframe thead th {\n",
              "        text-align: right;\n",
              "    }\n",
              "</style>\n",
              "<table border=\"1\" class=\"dataframe\">\n",
              "  <thead>\n",
              "    <tr style=\"text-align: right;\">\n",
              "      <th></th>\n",
              "      <th>identificador_unico</th>\n",
              "    </tr>\n",
              "    <tr>\n",
              "      <th>extension</th>\n",
              "      <th></th>\n",
              "    </tr>\n",
              "  </thead>\n",
              "  <tbody>\n",
              "    <tr>\n",
              "      <th>JPEG</th>\n",
              "      <td>24323</td>\n",
              "    </tr>\n",
              "    <tr>\n",
              "      <th>PNG</th>\n",
              "      <td>8825</td>\n",
              "    </tr>\n",
              "  </tbody>\n",
              "</table>\n",
              "</div>"
            ],
            "text/plain": [
              "           identificador_unico\n",
              "extension                     \n",
              "JPEG                     24323\n",
              "PNG                       8825"
            ]
          },
          "execution_count": 4,
          "metadata": {},
          "output_type": "execute_result"
        }
      ],
      "source": [
        "print('Número de imagenes según sus extensiones')\n",
        "pd.DataFrame(dataset_info_trans.groupby('extension')['identificador_unico'].count())"
      ]
    },
    {
      "cell_type": "code",
      "execution_count": 5,
      "metadata": {
        "colab": {
          "base_uri": "https://localhost:8080/",
          "height": 255
        },
        "id": "oM8qoiFKIhmt",
        "outputId": "ac347efe-8921-4b59-b355-29cba3746538"
      },
      "outputs": [
        {
          "name": "stdout",
          "output_type": "stream",
          "text": [
            "Número de imágenes por categoría\n"
          ]
        },
        {
          "data": {
            "text/html": [
              "<div>\n",
              "<style scoped>\n",
              "    .dataframe tbody tr th:only-of-type {\n",
              "        vertical-align: middle;\n",
              "    }\n",
              "\n",
              "    .dataframe tbody tr th {\n",
              "        vertical-align: top;\n",
              "    }\n",
              "\n",
              "    .dataframe thead th {\n",
              "        text-align: right;\n",
              "    }\n",
              "</style>\n",
              "<table border=\"1\" class=\"dataframe\">\n",
              "  <thead>\n",
              "    <tr style=\"text-align: right;\">\n",
              "      <th></th>\n",
              "      <th>identificador_unico</th>\n",
              "    </tr>\n",
              "    <tr>\n",
              "      <th>categoria</th>\n",
              "      <th></th>\n",
              "    </tr>\n",
              "  </thead>\n",
              "  <tbody>\n",
              "    <tr>\n",
              "      <th>birds</th>\n",
              "      <td>3788</td>\n",
              "    </tr>\n",
              "    <tr>\n",
              "      <th>cat</th>\n",
              "      <td>5653</td>\n",
              "    </tr>\n",
              "    <tr>\n",
              "      <th>dog</th>\n",
              "      <td>5239</td>\n",
              "    </tr>\n",
              "    <tr>\n",
              "      <th>fish</th>\n",
              "      <td>13230</td>\n",
              "    </tr>\n",
              "    <tr>\n",
              "      <th>wild</th>\n",
              "      <td>5238</td>\n",
              "    </tr>\n",
              "  </tbody>\n",
              "</table>\n",
              "</div>"
            ],
            "text/plain": [
              "           identificador_unico\n",
              "categoria                     \n",
              "birds                     3788\n",
              "cat                       5653\n",
              "dog                       5239\n",
              "fish                     13230\n",
              "wild                      5238"
            ]
          },
          "execution_count": 5,
          "metadata": {},
          "output_type": "execute_result"
        }
      ],
      "source": [
        "print('Número de imágenes por categoría')\n",
        "pd.DataFrame(dataset_info_trans.groupby('categoria')['identificador_unico'].count())"
      ]
    },
    {
      "cell_type": "code",
      "execution_count": 6,
      "metadata": {
        "colab": {
          "base_uri": "https://localhost:8080/",
          "height": 300
        },
        "id": "MKDQHeOYrQmJ",
        "outputId": "0b8fc030-ff85-4351-b0fa-898edbb8118d"
      },
      "outputs": [
        {
          "data": {
            "text/html": [
              "<div>\n",
              "<style scoped>\n",
              "    .dataframe tbody tr th:only-of-type {\n",
              "        vertical-align: middle;\n",
              "    }\n",
              "\n",
              "    .dataframe tbody tr th {\n",
              "        vertical-align: top;\n",
              "    }\n",
              "\n",
              "    .dataframe thead th {\n",
              "        text-align: right;\n",
              "    }\n",
              "</style>\n",
              "<table border=\"1\" class=\"dataframe\">\n",
              "  <thead>\n",
              "    <tr style=\"text-align: right;\">\n",
              "      <th></th>\n",
              "      <th>ancho</th>\n",
              "      <th>alto</th>\n",
              "    </tr>\n",
              "  </thead>\n",
              "  <tbody>\n",
              "    <tr>\n",
              "      <th>count</th>\n",
              "      <td>33148.000000</td>\n",
              "      <td>33148.000000</td>\n",
              "    </tr>\n",
              "    <tr>\n",
              "      <th>mean</th>\n",
              "      <td>531.448836</td>\n",
              "      <td>386.482804</td>\n",
              "    </tr>\n",
              "    <tr>\n",
              "      <th>std</th>\n",
              "      <td>61.389807</td>\n",
              "      <td>147.452086</td>\n",
              "    </tr>\n",
              "    <tr>\n",
              "      <th>min</th>\n",
              "      <td>140.000000</td>\n",
              "      <td>25.000000</td>\n",
              "    </tr>\n",
              "    <tr>\n",
              "      <th>25%</th>\n",
              "      <td>512.000000</td>\n",
              "      <td>230.750000</td>\n",
              "    </tr>\n",
              "    <tr>\n",
              "      <th>50%</th>\n",
              "      <td>512.000000</td>\n",
              "      <td>500.000000</td>\n",
              "    </tr>\n",
              "    <tr>\n",
              "      <th>75%</th>\n",
              "      <td>567.000000</td>\n",
              "      <td>512.000000</td>\n",
              "    </tr>\n",
              "    <tr>\n",
              "      <th>max</th>\n",
              "      <td>650.000000</td>\n",
              "      <td>600.000000</td>\n",
              "    </tr>\n",
              "  </tbody>\n",
              "</table>\n",
              "</div>"
            ],
            "text/plain": [
              "              ancho          alto\n",
              "count  33148.000000  33148.000000\n",
              "mean     531.448836    386.482804\n",
              "std       61.389807    147.452086\n",
              "min      140.000000     25.000000\n",
              "25%      512.000000    230.750000\n",
              "50%      512.000000    500.000000\n",
              "75%      567.000000    512.000000\n",
              "max      650.000000    600.000000"
            ]
          },
          "execution_count": 6,
          "metadata": {},
          "output_type": "execute_result"
        }
      ],
      "source": [
        "dataset_info_trans[['ancho', 'alto']].describe()"
      ]
    },
    {
      "cell_type": "code",
      "execution_count": 7,
      "metadata": {
        "colab": {
          "base_uri": "https://localhost:8080/",
          "height": 112
        },
        "id": "mx7MhJ_TdrJf",
        "outputId": "43a2f334-43f9-4b90-efff-5aa17e3b4b72"
      },
      "outputs": [
        {
          "data": {
            "text/html": [
              "<div>\n",
              "<style scoped>\n",
              "    .dataframe tbody tr th:only-of-type {\n",
              "        vertical-align: middle;\n",
              "    }\n",
              "\n",
              "    .dataframe tbody tr th {\n",
              "        vertical-align: top;\n",
              "    }\n",
              "\n",
              "    .dataframe thead th {\n",
              "        text-align: right;\n",
              "    }\n",
              "</style>\n",
              "<table border=\"1\" class=\"dataframe\">\n",
              "  <thead>\n",
              "    <tr style=\"text-align: right;\">\n",
              "      <th></th>\n",
              "      <th>nombre_archivo</th>\n",
              "      <th>dimension</th>\n",
              "      <th>extension</th>\n",
              "      <th>categoria</th>\n",
              "      <th>ancho</th>\n",
              "      <th>alto</th>\n",
              "    </tr>\n",
              "  </thead>\n",
              "  <tbody>\n",
              "    <tr>\n",
              "      <th>0</th>\n",
              "      <td>0</td>\n",
              "      <td>(500, 304)</td>\n",
              "      <td>JPEG</td>\n",
              "      <td>birds</td>\n",
              "      <td>500</td>\n",
              "      <td>304</td>\n",
              "    </tr>\n",
              "    <tr>\n",
              "      <th>1</th>\n",
              "      <td>1</td>\n",
              "      <td>(500, 374)</td>\n",
              "      <td>JPEG</td>\n",
              "      <td>birds</td>\n",
              "      <td>500</td>\n",
              "      <td>374</td>\n",
              "    </tr>\n",
              "  </tbody>\n",
              "</table>\n",
              "</div>"
            ],
            "text/plain": [
              "  nombre_archivo   dimension extension categoria  ancho  alto\n",
              "0              0  (500, 304)      JPEG     birds    500   304\n",
              "1              1  (500, 374)      JPEG     birds    500   374"
            ]
          },
          "execution_count": 7,
          "metadata": {},
          "output_type": "execute_result"
        }
      ],
      "source": [
        "# dataset_info = pd.read_csv('/content/drive/MyDrive/DATASET_02_SEPT/Procesamiento de imágen/dataset_info_original.csv', index_col='Unnamed: 0')\n",
        "# dataset_info.nombre_archivo = dataset_info.nombre_archivo.apply(lambda x: x.split('.')[0])\n",
        "dataset_info.head(2)"
      ]
    },
    {
      "cell_type": "code",
      "execution_count": 8,
      "metadata": {
        "colab": {
          "base_uri": "https://localhost:8080/",
          "height": 424
        },
        "id": "Pg9k2M8xeEpV",
        "outputId": "5d5994d7-3afc-4709-9fbd-59a407e13a45"
      },
      "outputs": [
        {
          "data": {
            "text/html": [
              "<div>\n",
              "<style scoped>\n",
              "    .dataframe tbody tr th:only-of-type {\n",
              "        vertical-align: middle;\n",
              "    }\n",
              "\n",
              "    .dataframe tbody tr th {\n",
              "        vertical-align: top;\n",
              "    }\n",
              "\n",
              "    .dataframe thead th {\n",
              "        text-align: right;\n",
              "    }\n",
              "</style>\n",
              "<table border=\"1\" class=\"dataframe\">\n",
              "  <thead>\n",
              "    <tr style=\"text-align: right;\">\n",
              "      <th></th>\n",
              "      <th>nombre_archivo</th>\n",
              "      <th>dimension</th>\n",
              "      <th>extension</th>\n",
              "      <th>categoria</th>\n",
              "      <th>ancho</th>\n",
              "      <th>alto</th>\n",
              "    </tr>\n",
              "  </thead>\n",
              "  <tbody>\n",
              "    <tr>\n",
              "      <th>0</th>\n",
              "      <td>1</td>\n",
              "      <td>(500, 374)</td>\n",
              "      <td>JPEG</td>\n",
              "      <td>birds</td>\n",
              "      <td>500</td>\n",
              "      <td>374</td>\n",
              "    </tr>\n",
              "    <tr>\n",
              "      <th>1</th>\n",
              "      <td>10</td>\n",
              "      <td>(500, 333)</td>\n",
              "      <td>JPEG</td>\n",
              "      <td>birds</td>\n",
              "      <td>500</td>\n",
              "      <td>333</td>\n",
              "    </tr>\n",
              "    <tr>\n",
              "      <th>2</th>\n",
              "      <td>100</td>\n",
              "      <td>(500, 333)</td>\n",
              "      <td>JPEG</td>\n",
              "      <td>birds</td>\n",
              "      <td>500</td>\n",
              "      <td>333</td>\n",
              "    </tr>\n",
              "    <tr>\n",
              "      <th>3</th>\n",
              "      <td>1000</td>\n",
              "      <td>(469, 298)</td>\n",
              "      <td>JPEG</td>\n",
              "      <td>birds</td>\n",
              "      <td>469</td>\n",
              "      <td>298</td>\n",
              "    </tr>\n",
              "    <tr>\n",
              "      <th>4</th>\n",
              "      <td>1001</td>\n",
              "      <td>(500, 335)</td>\n",
              "      <td>JPEG</td>\n",
              "      <td>birds</td>\n",
              "      <td>500</td>\n",
              "      <td>335</td>\n",
              "    </tr>\n",
              "    <tr>\n",
              "      <th>...</th>\n",
              "      <td>...</td>\n",
              "      <td>...</td>\n",
              "      <td>...</td>\n",
              "      <td>...</td>\n",
              "      <td>...</td>\n",
              "      <td>...</td>\n",
              "    </tr>\n",
              "    <tr>\n",
              "      <th>16367</th>\n",
              "      <td>zeus_faber_6</td>\n",
              "      <td>(598, 287)</td>\n",
              "      <td>PNG</td>\n",
              "      <td>fish</td>\n",
              "      <td>598</td>\n",
              "      <td>287</td>\n",
              "    </tr>\n",
              "    <tr>\n",
              "      <th>16368</th>\n",
              "      <td>zeus_faber_7</td>\n",
              "      <td>(650, 513)</td>\n",
              "      <td>JPEG</td>\n",
              "      <td>fish</td>\n",
              "      <td>650</td>\n",
              "      <td>513</td>\n",
              "    </tr>\n",
              "    <tr>\n",
              "      <th>16369</th>\n",
              "      <td>zeus_faber_7</td>\n",
              "      <td>(565, 233)</td>\n",
              "      <td>PNG</td>\n",
              "      <td>fish</td>\n",
              "      <td>565</td>\n",
              "      <td>233</td>\n",
              "    </tr>\n",
              "    <tr>\n",
              "      <th>16370</th>\n",
              "      <td>zeus_faber_8</td>\n",
              "      <td>(640, 480)</td>\n",
              "      <td>JPEG</td>\n",
              "      <td>fish</td>\n",
              "      <td>640</td>\n",
              "      <td>480</td>\n",
              "    </tr>\n",
              "    <tr>\n",
              "      <th>16371</th>\n",
              "      <td>zeus_faber_8</td>\n",
              "      <td>(472, 210)</td>\n",
              "      <td>PNG</td>\n",
              "      <td>fish</td>\n",
              "      <td>472</td>\n",
              "      <td>210</td>\n",
              "    </tr>\n",
              "  </tbody>\n",
              "</table>\n",
              "<p>16372 rows × 6 columns</p>\n",
              "</div>"
            ],
            "text/plain": [
              "      nombre_archivo   dimension extension categoria  ancho  alto\n",
              "0                  1  (500, 374)      JPEG     birds    500   374\n",
              "1                 10  (500, 333)      JPEG     birds    500   333\n",
              "2                100  (500, 333)      JPEG     birds    500   333\n",
              "3               1000  (469, 298)      JPEG     birds    469   298\n",
              "4               1001  (500, 335)      JPEG     birds    500   335\n",
              "...              ...         ...       ...       ...    ...   ...\n",
              "16367   zeus_faber_6  (598, 287)       PNG      fish    598   287\n",
              "16368   zeus_faber_7  (650, 513)      JPEG      fish    650   513\n",
              "16369   zeus_faber_7  (565, 233)       PNG      fish    565   233\n",
              "16370   zeus_faber_8  (640, 480)      JPEG      fish    640   480\n",
              "16371   zeus_faber_8  (472, 210)       PNG      fish    472   210\n",
              "\n",
              "[16372 rows x 6 columns]"
            ]
          },
          "execution_count": 8,
          "metadata": {},
          "output_type": "execute_result"
        }
      ],
      "source": [
        "archivos = dataset_info.nombre_archivo\n",
        "filtro = archivos.isin(archivos[archivos.duplicated()])\n",
        "imagenes_repetidas = dataset_info[filtro].reset_index(drop=True)\n",
        "imagenes_repetidas"
      ]
    },
    {
      "cell_type": "code",
      "execution_count": 9,
      "metadata": {
        "colab": {
          "base_uri": "https://localhost:8080/"
        },
        "id": "FjKPOjg3hEb8",
        "outputId": "c05cbe4b-1e34-437e-88ec-bad8af606997"
      },
      "outputs": [
        {
          "data": {
            "text/plain": [
              "extension\n",
              "JPEG    8186\n",
              "PNG     8186\n",
              "Name: extension, dtype: int64"
            ]
          },
          "execution_count": 9,
          "metadata": {},
          "output_type": "execute_result"
        }
      ],
      "source": [
        "imagenes_repetidas.groupby('extension')['extension'].count()"
      ]
    },
    {
      "cell_type": "code",
      "execution_count": 10,
      "metadata": {
        "colab": {
          "base_uri": "https://localhost:8080/",
          "height": 579
        },
        "id": "uPQ0VcXg4WKb",
        "outputId": "e25567a7-7235-4a5b-d1ad-7f688fe685d0"
      },
      "outputs": [
        {
          "data": {
            "image/png": "[encoded data removed]",
            "text/plain": [
              "<Figure size 800x600 with 1 Axes>"
            ]
          },
          "metadata": {},
          "output_type": "display_data"
        }
      ],
      "source": [
        "# Configurar el estilo de Seaborn para un gráfico científico\n",
        "sns.set(style='whitegrid', font_scale=1.2)\n",
        "\n",
        "# Crear un histograma con dos variables\n",
        "plt.figure(figsize=(8, 6))\n",
        "sns.histplot(data=dataset_info, x='ancho', bins=20, kde=True, label='Ancho', color='skyblue')\n",
        "sns.histplot(data=dataset_info, x='alto', bins=20, kde=True, label='Alto', color='salmon')\n",
        "\n",
        "plt.xlabel('Medidas')\n",
        "plt.ylabel('Frecuencia')\n",
        "plt.title('Distribución de Ancho y Alto en el Dataset')\n",
        "\n",
        "plt.legend()\n",
        "plt.show()"
      ]
    },
    {
      "cell_type": "code",
      "execution_count": 13,
      "metadata": {
        "colab": {
          "base_uri": "https://localhost:8080/",
          "height": 593
        },
        "id": "IlosQFkL67DH",
        "outputId": "089347db-91b0-4bee-90ab-d1a97ebfb9d9"
      },
      "outputs": [
        {
          "data": {
            "image/png": "[encoded data removed]",
            "text/plain": [
              "<Figure size 850x450 with 2 Axes>"
            ]
          },
          "metadata": {},
          "output_type": "display_data"
        }
      ],
      "source": [
        "# Configurar el estilo de Seaborn para un gráfico científico\n",
        "sns.set(style=\"whitegrid\", palette=\"gray\")\n",
        "\n",
        "# Crear dos subplots en la misma fila\n",
        "fig, axes = plt.subplots(1, 2, figsize=(8.5, 4.5))\n",
        "\n",
        "# Histograma para la variable \"ancho\" con límites iguales\n",
        "sns.histplot(data=dataset_info, x='ancho', bins=8, ax=axes[0])\n",
        "axes[0].set_xlabel('Ancho, (pixeles)')\n",
        "axes[0].set_ylabel('Frecuencia')\n",
        "axes[0].set_title('Distribución del ancho')\n",
        "axes[0].set_ylim(0, 23000)\n",
        "axes[0].set_xlim(0, 700)\n",
        "axes[0].grid(True, linestyle='--', alpha=0.5)\n",
        "\n",
        "\n",
        "# Histograma para la variable \"alto\" con límites iguales\n",
        "sns.histplot(data=dataset_info, x='alto', bins=8, ax=axes[1])\n",
        "axes[1].set_xlabel('Alto, (pixeles)')\n",
        "axes[1].set_ylabel('')\n",
        "axes[1].set_title('Distribución del alto')\n",
        "axes[1].set_ylim(0, 23000)\n",
        "axes[1].set_xlim(0, 700)\n",
        "axes[1].grid(True, linestyle='--', alpha=0.5)\n",
        "plt.tight_layout()\n",
        "\n",
        "# # Guardar el gráfico en alta resolución\n",
        "# plt.savefig('distribucion_ancho_alto.pdf', dpi=300)\n",
        "plt.show()"
      ]
    }
  ],
  "metadata": {
    "colab": {
      "gpuType": "T4",
      "provenance": []
    },
    "kernelspec": {
      "display_name": "Python 3",
      "name": "python3"
    },
    "language_info": {
      "codemirror_mode": {
        "name": "ipython",
        "version": 3
      },
      "file_extension": ".py",
      "mimetype": "text/x-python",
      "name": "python",
      "nbconvert_exporter": "python",
      "pygments_lexer": "ipython3",
      "version": "3.11.2"
    },
    "orig_nbformat": 4
  },
  "nbformat": 4,
  "nbformat_minor": 0
}
