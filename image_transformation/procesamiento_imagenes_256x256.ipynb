{
 "cells": [
  {
   "cell_type": "code",
   "execution_count": 1,
   "metadata": {},
   "outputs": [],
   "source": [
    "import numpy as np\n",
    "import pandas as pd\n",
    "import os, shutil\n",
    "\n",
    "from PIL import Image\n",
    "\n",
    "from random import choice, sample\n",
    "from warnings import filterwarnings\n",
    "filterwarnings(\"ignore\")"
   ]
  },
  {
   "cell_type": "markdown",
   "metadata": {},
   "source": [
    "Código para generar un código único en cada imagen del dataset"
   ]
  },
  {
   "cell_type": "code",
   "execution_count": 9,
   "metadata": {},
   "outputs": [],
   "source": [
    "carpeta_principal = \"D:/Estiven/Datos/Proyectos/olimpiadas_AI/DATASET_copy\""
   ]
  },
  {
   "cell_type": "code",
   "execution_count": 10,
   "metadata": {},
   "outputs": [],
   "source": [
    "# Lista de carpetas a recorrer\n",
    "carpetas = os.listdir(carpeta_principal)\n",
    "\n",
    "contador = 0\n",
    "\n",
    "# Recorriendo cada carpeta y cada archivo en ellas\n",
    "for carpeta in carpetas:\n",
    "    ruta_carpeta = os.path.join(carpeta_principal, carpeta)\n",
    "\n",
    "    for filename in os.listdir(ruta_carpeta):\n",
    "\n",
    "        _, file_extension = os.path.splitext(filename) # Obtener la extensión del archivo\n",
    "\n",
    "        nuevo_nombre = f\"{carpeta}_{contador}{file_extension}\"  # Nuevo nombre del archivo\n",
    "        nueva_ruta = os.path.join(ruta_carpeta, nuevo_nombre)\n",
    "\n",
    "        # Renombrando los archivos\n",
    "        os.rename(os.path.join(ruta_carpeta, filename), nueva_ruta)\n",
    "        contador += 1"
   ]
  },
  {
   "cell_type": "markdown",
   "metadata": {},
   "source": [
    "Código para cambiar la extensión de las imágenes .png a .jpg"
   ]
  },
  {
   "cell_type": "code",
   "execution_count": 11,
   "metadata": {},
   "outputs": [],
   "source": [
    "# Recorriendo todas las carpetas y archivos\n",
    "for subdir, _, archivos in os.walk(carpeta_principal):\n",
    "    for archivo in archivos:\n",
    "        # Comprobando si el archivo es una imagen PNG\n",
    "        if archivo.lower().endswith('.png'):\n",
    "            ruta_completa = os.path.join(subdir, archivo)\n",
    "            imagen_png = Image.open(ruta_completa)\n",
    "\n",
    "            # Crea la ruta de archivo para la nueva imagen JPG\n",
    "            nueva_ruta = os.path.splitext(ruta_completa)[0] + '.jpg'\n",
    "\n",
    "            # Convirtiendo la imagen como JPG\n",
    "            imagen_png.convert('RGB').save(nueva_ruta, 'JPEG')\n",
    "\n",
    "            # Eliminar la imagen PNG original\n",
    "            os.remove(ruta_completa)"
   ]
  },
  {
   "cell_type": "markdown",
   "metadata": {},
   "source": [
    "Código para cambiar los tamaños de las imágenes y rellenar las imágenes con excesos blancos"
   ]
  },
  {
   "cell_type": "code",
   "execution_count": 12,
   "metadata": {},
   "outputs": [],
   "source": [
    "# Lista de carpetas a recorrer\n",
    "carpetas = os.listdir(carpeta_principal)\n",
    "\n",
    "# Recorriendo cada archivo de las carpetas\n",
    "for carpeta in carpetas:\n",
    "    carpeta_path = os.path.join(carpeta_principal, carpeta)\n",
    "\n",
    "    for archivo in os.listdir(carpeta_path):\n",
    "        archivo_path = os.path.join(carpeta_path, archivo)\n",
    "\n",
    "        # Abriendo cada imagen y sacando su información\n",
    "        with Image.open(archivo_path) as imagen:\n",
    "            # Tomando los tamaños de la imágen\n",
    "            imagen_size = imagen.size\n",
    "            width = imagen_size[0]\n",
    "            height = imagen_size[1]\n",
    "\n",
    "            # Comproband si la imágen no es cuadrada y rectangular\n",
    "            if((width != height) and (height < width)):\n",
    "\n",
    "                # Lado más grande de la imágen\n",
    "                bigside = width if width > height else height\n",
    "\n",
    "                # Creando nueva imágen con relleno blanco con base en el lado más grande y pequeño\n",
    "                background = Image.new('RGB', (bigside, bigside), (255, 255, 255, 255))\n",
    "                offset = (int(round(((bigside - width) / 2), 0)), int(round(((bigside - height) / 2),0)))\n",
    "\n",
    "                # Pegando la imágen blanca a la original\n",
    "                background.paste(imagen, offset)\n",
    "\n",
    "                # Eliminando la imágen antigua y guardando la nueva\n",
    "                os.remove(archivo_path)\n",
    "                background.save(archivo_path)"
   ]
  },
  {
   "cell_type": "markdown",
   "metadata": {},
   "source": [
    "# **De aquí para abajo no hay ningún cambio en los archivos**"
   ]
  },
  {
   "cell_type": "markdown",
   "metadata": {},
   "source": [
    "Código para crear un dataframe con información de cada imagen del dataset"
   ]
  },
  {
   "cell_type": "code",
   "execution_count": null,
   "metadata": {},
   "outputs": [],
   "source": [
    "carpeta_principal = \"D:/Estiven/Datos/Proyectos/olimpiadas_AI/DATASET\"\n",
    "\n",
    "# Lista de carpetas a recorrer\n",
    "carpetas = os.listdir(carpeta_principal)\n",
    "\n",
    "# Listas donde se contendrán los datos\n",
    "dimensiones = []\n",
    "extensiones = []\n",
    "categoria = []\n",
    "nombre_archivo = []\n",
    "\n",
    "# Recorriendo cada archivo de las carpetas\n",
    "for carpeta in carpetas:\n",
    "    carpeta_path = os.path.join(carpeta_principal, carpeta)\n",
    "\n",
    "    for archivo in os.listdir(carpeta_path):\n",
    "        archivo_path = os.path.join(carpeta_path, archivo)\n",
    "\n",
    "        # Abriendo cada imagen y sacando su información\n",
    "        with Image.open(archivo_path) as imagen:\n",
    "            imagen_size = imagen.size\n",
    "            extension = imagen.format\n",
    "\n",
    "        # Guardando los datos en listas\n",
    "        dimensiones.append(imagen_size)\n",
    "        extensiones.append(extension)\n",
    "        categoria.append(carpeta)\n",
    "        nombre_archivo.append(archivo)"
   ]
  },
  {
   "cell_type": "markdown",
   "metadata": {},
   "source": [
    "Código para sacar una muestra de 10 imágenes de cada categoría"
   ]
  },
  {
   "cell_type": "code",
   "execution_count": null,
   "metadata": {},
   "outputs": [],
   "source": [
    "# Definir las carpetas de origen y destino\n",
    "carpeta_origen = \"D:/Estiven/Datos/Proyectos/olimpiadas_AI/DATASET_copy\"\n",
    "carpeta_destino = \"D:/Estiven/Datos/Proyectos/olimpiadas_AI/muestra_test_256x256\"\n",
    "\n",
    "# Crear la carpeta de destino si no existe\n",
    "if not os.path.exists(carpeta_destino):\n",
    "    os.makedirs(carpeta_destino)\n",
    "\n",
    "# Listar todas las carpetas en la carpeta de origen\n",
    "subcarpetas = [f.path for f in os.scandir(carpeta_origen) if f.is_dir()]\n",
    "\n",
    "archivos_elegidos = []\n",
    "# Iterar a través de las subcarpetas y seleccionar 10 archivos de cada una\n",
    "for subcarpeta in subcarpetas:\n",
    "    archivos = [f.path for f in os.scandir(subcarpeta) if f.is_file()]\n",
    "    archivos_seleccionados = sample(archivos, 40)  # Seleccionar 10 archivos al azar\n",
    "    archivos_elegidos.append(archivos_elegidos)\n",
    "    \n",
    "    for archivo in archivos_seleccionados:\n",
    "        # Mover el archivo seleccionado a la carpeta de destino\n",
    "        shutil.move(archivo, os.path.join(carpeta_destino, os.path.basename(archivo)))"
   ]
  },
  {
   "cell_type": "code",
   "execution_count": 16,
   "metadata": {},
   "outputs": [],
   "source": [
    "carpeta256x256 = 'D:/Estiven/Datos/Proyectos/olimpiadas_AI/DATASET_copy/birds'\n",
    "\n",
    "for archivo in os.listdir(carpeta256x256):\n",
    "    archivo_path = os.path.join(carpeta256x256, archivo)\n",
    "\n",
    "    # Abriendo cada imagen y sacando su información\n",
    "    with Image.open(archivo_path) as imagen:\n",
    "        imagen = imagen.resize((256, 256))\n",
    "\n",
    "    os.remove(archivo_path)\n",
    "    imagen.save(archivo_path)"
   ]
  },
  {
   "cell_type": "markdown",
   "metadata": {},
   "source": [
    "Código fuente del código para hacer imágenes cuadradas"
   ]
  },
  {
   "cell_type": "code",
   "execution_count": 10,
   "metadata": {},
   "outputs": [
    {
     "name": "stdout",
     "output_type": "stream",
     "text": [
      "Image has been resized !\n"
     ]
    }
   ],
   "source": [
    "# Fuente del código: https://stackoverflow.com/questions/44370469/python-image-resizing-keep-proportion-add-white-background\n",
    "\n",
    "def Reformat_Image(ImageFilePath):\n",
    "\n",
    "    from PIL import Image\n",
    "    image = Image.open(ImageFilePath, 'r')\n",
    "    image_size = image.size\n",
    "    width = image_size[0]\n",
    "    height = image_size[1]\n",
    "\n",
    "    if(width != height):\n",
    "        bigside = width if width > height else height\n",
    "\n",
    "        background = Image.new('RGBA', (bigside, bigside), (255, 255, 255, 255))\n",
    "        offset = (int(round(((bigside - width) / 2), 0)), int(round(((bigside - height) / 2),0)))\n",
    "\n",
    "        background.paste(image, offset)\n",
    "        background.save('out.png')\n",
    "        print(\"Image has been resized !\")\n",
    "\n",
    "    else:\n",
    "        print(\"Image is already a square, it has not been resized !\")\n",
    "\n",
    "Reformat_Image('39.png')"
   ]
  }
 ],
 "metadata": {
  "kernelspec": {
   "display_name": "olimpiadas_tech",
   "language": "python",
   "name": "python3"
  },
  "language_info": {
   "codemirror_mode": {
    "name": "ipython",
    "version": 3
   },
   "file_extension": ".py",
   "mimetype": "text/x-python",
   "name": "python",
   "nbconvert_exporter": "python",
   "pygments_lexer": "ipython3",
   "version": "3.11.2"
  },
  "orig_nbformat": 4
 },
 "nbformat": 4,
 "nbformat_minor": 2
}
